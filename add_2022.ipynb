{
 "cells": [
  {
   "cell_type": "code",
   "execution_count": 1,
   "outputs": [],
   "source": [
    "import re\n",
    "from top_bgco import RawEntry, get_url_for_chapter, DB, build_raw_data\n",
    "from typing import Dict, List\n",
    "\n",
    "#\n",
    "# 2022\n",
    "#\n",
    "urls_2022 = [\n",
    "    \"https://www.youtube.com/watch?v=7Y8NuZxZCxM\",\n",
    "    \"https://www.youtube.com/watch?v=oHCpZ3KXvSs\",\n",
    "    \"https://www.youtube.com/watch?v=BVdTCNJytgk\",\n",
    "    \"https://www.youtube.com/watch?v=K3k0Ig901wc\",\n",
    "    \"https://www.youtube.com/watch?v=WcQDObGcON8\",\n",
    "    \"https://www.youtube.com/watch?v=4dWCVA3bZ1k\",\n",
    "    \"https://www.youtube.com/watch?v=yC4Zo-JSjLk\",\n",
    "    \"https://www.youtube.com/watch?v=CW2SD-FROqU\",\n",
    "    \"https://www.youtube.com/watch?v=0ouNMQi4wp8\",\n",
    "    \"https://www.youtube.com/watch?v=McwVKKoV2ws\",\n",
    "]\n",
    "\n",
    "\n",
    "def parse_2022(chapter: Dict, video_id: str, year: int) -> RawEntry:\n",
    "    \"\"\"This parser works well with the format of the 2022 top 100 videos.\"\"\"\n",
    "    regex = r\"(\\d*)\\ (Devon|Alex|Meg)\\ ?-\\ (.*)\"\n",
    "    matches = re.finditer(regex, chapter[\"title\"])\n",
    "    position, who, game = list(matches)[0].groups()\n",
    "    url = get_url_for_chapter(video_id, chapter[\"time\"])\n",
    "    return RawEntry(year, who, game, int(position), url)\n",
    "\n",
    "\n",
    "def before_return_hook_2022(entries: List[RawEntry]) -> List[RawEntry]:\n",
    "    to_add = [\n",
    "        # Per questo manca proprio il chapter\n",
    "        RawEntry(\n",
    "            2022,\n",
    "            \"Meg\",\n",
    "            \"The Guild of Merchant Explorers\",\n",
    "            75,\n",
    "            \"https://www.youtube.com/watch?v=BVdTCNJytgk&t=2240\",\n",
    "        ),\n",
    "    ]\n",
    "\n",
    "    def skip(entry: RawEntry) -> RawEntry:\n",
    "        return entry not in [\n",
    "            # Qua hanno solo chiacchierato, lo ripetono piu' avanti\n",
    "            RawEntry(\n",
    "                2022,\n",
    "                \"Devon\",\n",
    "                \"Vindication\",\n",
    "                50,\n",
    "                \"https://www.youtube.com/watch?v=4dWCVA3bZ1k&t=65\",\n",
    "            ),\n",
    "        ]\n",
    "\n",
    "    def fix(entry: RawEntry) -> RawEntry:\n",
    "        # Questo ha il nome sbagliato\n",
    "        if entry == RawEntry(\n",
    "                2022,\n",
    "                \"Alex\",\n",
    "                \"Welcome To...\",\n",
    "                92,\n",
    "                \"https://www.youtube.com/watch?v=7Y8NuZxZCxM&t=3356\",\n",
    "        ):\n",
    "            entry.name = \"Devon\"\n",
    "        return entry\n",
    "\n",
    "    return list(filter(skip, map(fix, entries))) + to_add\n",
    "\n",
    "\n",
    "#\n",
    "# BUILD DB FOR 2022\n",
    "#\n",
    "# TODO db merge\n",
    "db = DB()\n",
    "raw_data_2022 = build_raw_data(video_urls=urls_2022, year=2022, parser=parse_2022, before_return_hook=before_return_hook_2022)\n",
    "db.add_from_raw_data(raw_data_2022)\n",
    "db.save_to_file(\"db.json\")\n",
    "db.save_for_gradio(\"gradio.json\")"
   ],
   "metadata": {
    "collapsed": false
   }
  },
  {
   "cell_type": "code",
   "execution_count": 2,
   "outputs": [
    {
     "data": {
      "text/plain": "DB(years=[Year(2022)])"
     },
     "execution_count": 2,
     "metadata": {},
     "output_type": "execute_result"
    }
   ],
   "source": [
    "db"
   ],
   "metadata": {
    "collapsed": false
   }
  },
  {
   "cell_type": "code",
   "execution_count": null,
   "outputs": [],
   "source": [
    "data = []\n"
   ],
   "metadata": {
    "collapsed": false
   }
  }
 ],
 "metadata": {
  "kernelspec": {
   "display_name": "Python 3",
   "language": "python",
   "name": "python3"
  },
  "language_info": {
   "codemirror_mode": {
    "name": "ipython",
    "version": 2
   },
   "file_extension": ".py",
   "mimetype": "text/x-python",
   "name": "python",
   "nbconvert_exporter": "python",
   "pygments_lexer": "ipython2",
   "version": "2.7.6"
  }
 },
 "nbformat": 4,
 "nbformat_minor": 0
}
